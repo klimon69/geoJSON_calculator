{
  "nbformat": 4,
  "nbformat_minor": 0,
  "metadata": {
    "colab": {
      "name": "Untitled1.ipynb",
      "provenance": [],
      "collapsed_sections": []
    },
    "kernelspec": {
      "name": "python3",
      "display_name": "Python 3"
    }
  },
  "cells": [
    {
      "cell_type": "code",
      "metadata": {
        "id": "69Iv851zWYPS",
        "colab_type": "code",
        "colab": {}
      },
      "source": [
        "Point = { \"type\": \"Feature\",\n",
        "      \"geometry\": { \"type\": \"Point\", \"coordinates\": [100.0, 0.0] },\n",
        "      \"properties\": {\"prop0\": \"value0\"}\n",
        "      }"
      ],
      "execution_count": 0,
      "outputs": []
    },
    {
      "cell_type": "code",
      "metadata": {
        "id": "jd_WTqHxWb9K",
        "colab_type": "code",
        "colab": {}
      },
      "source": [
        "LineString = { \"type\": \"Feature\",\n",
        "      \"geometry\": { \"type\": \"LineString\",\n",
        "  \"coordinates\": [ [100.0, 0.0], [101.0, 1.0] ]\n",
        "  },\n",
        "      \"properties\": {\"prop0\": \"value0\"}\n",
        "      }"
      ],
      "execution_count": 0,
      "outputs": []
    },
    {
      "cell_type": "code",
      "metadata": {
        "id": "sf1KMeDRWcAZ",
        "colab_type": "code",
        "colab": {}
      },
      "source": [
        "Polygon = { \"type\": \"Feature\",\n",
        "      \"geometry\": { \"type\": \"Polygon\",\n",
        "  \"coordinates\": [\n",
        "    [ [100.0, 0.0], [101.0, 0.0], [101.0, 1.0], [100.0, 1.0], [100.0, 0.0] ]\n",
        "    ]\n",
        " },\n",
        "      \"properties\": {\"prop0\": \"value0\"}\n",
        "      }"
      ],
      "execution_count": 0,
      "outputs": []
    },
    {
      "cell_type": "code",
      "metadata": {
        "id": "6tdL4F9DWcCt",
        "colab_type": "code",
        "colab": {}
      },
      "source": [
        "MultiPoint = { \"type\": \"Feature\",\n",
        "      \"geometry\": { \"type\": \"MultiPoint\",\n",
        "  \"coordinates\": [ [100.0, 0.0], [101.0, 1.0] ]\n",
        "  },\n",
        "      \"properties\": {\"prop0\": \"value0\"}\n",
        "      }"
      ],
      "execution_count": 0,
      "outputs": []
    },
    {
      "cell_type": "code",
      "metadata": {
        "id": "Wp4zZqizWcFU",
        "colab_type": "code",
        "colab": {}
      },
      "source": [
        "MultiLineString = { \"type\": \"Feature\",\n",
        "      \"geometry\": { \"type\": \"MultiLineString\",\n",
        "  \"coordinates\": [\n",
        "      [ [100.0, 0.0], [101.0, 1.0] ],\n",
        "      [ [102.0, 2.0], [103.0, 3.0] ]\n",
        "    ]\n",
        "  },\n",
        "      \"properties\": {\"prop0\": \"value0\"}\n",
        "      }"
      ],
      "execution_count": 0,
      "outputs": []
    },
    {
      "cell_type": "code",
      "metadata": {
        "id": "YMUjY8zGWcHs",
        "colab_type": "code",
        "colab": {}
      },
      "source": [
        "MultiPolygon = { \"type\": \"Feature\",\n",
        "      \"geometry\": { \"type\": \"MultiPolygon\",\n",
        "  \"coordinates\": [\n",
        "    [[[102.0, 2.0], [103.0, 2.0], [103.0, 3.0], [102.0, 3.0], [102.0, 2.0]]],\n",
        "    [[[100.0, 0.0], [101.0, 0.0], [101.0, 1.0], [100.0, 1.0], [100.0, 0.0]],\n",
        "     [[100.2, 0.2], [100.8, 0.2], [100.8, 0.8], [100.2, 0.8], [100.2, 0.2]]]\n",
        "    ]\n",
        "  },\n",
        "      \"properties\": {\"prop0\": \"value0\"}\n",
        "      }"
      ],
      "execution_count": 0,
      "outputs": []
    },
    {
      "cell_type": "code",
      "metadata": {
        "id": "rjInxlAQWcKB",
        "colab_type": "code",
        "colab": {}
      },
      "source": [
        "GeometryCollection = { \"type\": \"Feature\",\n",
        "      \"geometry\": { \"type\": \"GeometryCollection\",\n",
        "  \"geometries\": [\n",
        "    { \"type\": \"Point\",\n",
        "      \"coordinates\": [100.0, 0.0]\n",
        "      },\n",
        "    { \"type\": \"LineString\",\n",
        "      \"coordinates\": [ [101.0, 0.0], [102.0, 1.0] ]\n",
        "      }\n",
        "  ]\n",
        "},\n",
        "      \"properties\": {\"prop0\": \"value0\"}\n",
        "      }"
      ],
      "execution_count": 0,
      "outputs": []
    },
    {
      "cell_type": "code",
      "metadata": {
        "id": "FWeEP1ebWcMn",
        "colab_type": "code",
        "colab": {}
      },
      "source": [
        "valid_list = [Point,LineString,Polygon,MultiPoint,MultiLineString,MultiPolygon,GeometryCollection]"
      ],
      "execution_count": 0,
      "outputs": []
    },
    {
      "cell_type": "code",
      "metadata": {
        "id": "AP3xyRmMWnnF",
        "colab_type": "code",
        "colab": {}
      },
      "source": [
        "fiatures_list = [item for i in range(1,80000) for item in valid_list]"
      ],
      "execution_count": 0,
      "outputs": []
    },
    {
      "cell_type": "code",
      "metadata": {
        "id": "r3lGugnOWnp1",
        "colab_type": "code",
        "colab": {}
      },
      "source": [
        "final_dict = { \"type\": \"FeatureCollection\",\n",
        "  \"features\": fiatures_list\n",
        "   }"
      ],
      "execution_count": 0,
      "outputs": []
    },
    {
      "cell_type": "code",
      "metadata": {
        "id": "gkRkrepQWntO",
        "colab_type": "code",
        "colab": {}
      },
      "source": [
        "with open('data.json', 'w') as outfile:\n",
        "    json.dump(final_dict, outfile, indent=4, separators=(',', ': '))"
      ],
      "execution_count": 0,
      "outputs": []
    },
    {
      "cell_type": "code",
      "metadata": {
        "id": "gc0gYyxmWcO-",
        "colab_type": "code",
        "colab": {}
      },
      "source": [
        ""
      ],
      "execution_count": 0,
      "outputs": []
    }
  ]
}